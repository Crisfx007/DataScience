{
 "cells": [
  {
   "cell_type": "code",
   "execution_count": 19,
   "id": "3562de9d-ce78-4d08-8ca4-d00e849cb191",
   "metadata": {},
   "outputs": [],
   "source": [
    "a=True"
   ]
  },
  {
   "cell_type": "code",
   "execution_count": 21,
   "id": "747f0ae1-c60d-47f9-9c9a-a5dbfa8e80c3",
   "metadata": {},
   "outputs": [
    {
     "data": {
      "text/plain": [
       "bool"
      ]
     },
     "execution_count": 21,
     "metadata": {},
     "output_type": "execute_result"
    }
   ],
   "source": [
    "type(a)"
   ]
  },
  {
   "cell_type": "code",
   "execution_count": 23,
   "id": "a98ad4b8-e3f8-45f4-8711-c27d9e6bd315",
   "metadata": {},
   "outputs": [
    {
     "data": {
      "text/plain": [
       "int"
      ]
     },
     "execution_count": 23,
     "metadata": {},
     "output_type": "execute_result"
    }
   ],
   "source": [
    "b=99\n",
    "type(b)"
   ]
  },
  {
   "cell_type": "code",
   "execution_count": 25,
   "id": "ddd55c4b-62ba-4102-92ee-3254f6380c42",
   "metadata": {},
   "outputs": [
    {
     "data": {
      "text/plain": [
       "99"
      ]
     },
     "execution_count": 25,
     "metadata": {},
     "output_type": "execute_result"
    }
   ],
   "source": [
    "b"
   ]
  },
  {
   "cell_type": "code",
   "execution_count": 27,
   "id": "156b7ca5-add2-4ba1-9c64-9363e5dcd423",
   "metadata": {},
   "outputs": [
    {
     "data": {
      "text/plain": [
       "float"
      ]
     },
     "execution_count": 27,
     "metadata": {},
     "output_type": "execute_result"
    }
   ],
   "source": [
    "type(0.99)"
   ]
  },
  {
   "cell_type": "code",
   "execution_count": 29,
   "id": "24792b2a-0bfb-4727-b69c-94e438828183",
   "metadata": {},
   "outputs": [],
   "source": [
    "x=10"
   ]
  },
  {
   "cell_type": "code",
   "execution_count": 31,
   "id": "bf32656e-1b67-4d08-adc4-d82fdd09003f",
   "metadata": {},
   "outputs": [
    {
     "data": {
      "text/plain": [
       "10.0"
      ]
     },
     "execution_count": 31,
     "metadata": {},
     "output_type": "execute_result"
    }
   ],
   "source": [
    "float(x)"
   ]
  },
  {
   "cell_type": "code",
   "execution_count": 33,
   "id": "fab7e99c-c9bd-41a9-98ab-5f7841f52f55",
   "metadata": {},
   "outputs": [
    {
     "data": {
      "text/plain": [
       "10.0"
      ]
     },
     "execution_count": 33,
     "metadata": {},
     "output_type": "execute_result"
    }
   ],
   "source": [
    "x=10\n",
    "float(x)"
   ]
  },
  {
   "cell_type": "code",
   "execution_count": 35,
   "id": "cc64c665-38d5-403f-b6f0-de504810bbbe",
   "metadata": {},
   "outputs": [
    {
     "data": {
      "text/plain": [
       "0"
      ]
     },
     "execution_count": 35,
     "metadata": {},
     "output_type": "execute_result"
    }
   ],
   "source": [
    "a=int(0.99)\n",
    "a"
   ]
  },
  {
   "cell_type": "code",
   "execution_count": 37,
   "id": "40d4a84e-f52c-4251-b238-8be80cbda04b",
   "metadata": {},
   "outputs": [
    {
     "data": {
      "text/plain": [
       "0"
      ]
     },
     "execution_count": 37,
     "metadata": {},
     "output_type": "execute_result"
    }
   ],
   "source": [
    "a=0.99\n",
    "b=int(a)\n",
    "b"
   ]
  },
  {
   "cell_type": "code",
   "execution_count": 39,
   "id": "ff7afd4f-82f8-40e7-927c-d8f75522c82b",
   "metadata": {},
   "outputs": [
    {
     "ename": "NameError",
     "evalue": "name 'm' is not defined",
     "output_type": "error",
     "traceback": [
      "\u001b[1;31m---------------------------------------------------------------------------\u001b[0m",
      "\u001b[1;31mNameError\u001b[0m                                 Traceback (most recent call last)",
      "Cell \u001b[1;32mIn[39], line 1\u001b[0m\n\u001b[1;32m----> 1\u001b[0m m\u001b[38;5;241m-\u001b[39m\u001b[38;5;241m100\u001b[39m\n",
      "\u001b[1;31mNameError\u001b[0m: name 'm' is not defined"
     ]
    }
   ],
   "source": [
    "m-100"
   ]
  },
  {
   "cell_type": "code",
   "execution_count": 41,
   "id": "e0444cf1-66cd-498a-9f67-87b810dd6077",
   "metadata": {},
   "outputs": [],
   "source": [
    "m=100"
   ]
  },
  {
   "cell_type": "code",
   "execution_count": 43,
   "id": "579e8012-ed21-43ae-baf1-9a8860f4e304",
   "metadata": {},
   "outputs": [
    {
     "name": "stdout",
     "output_type": "stream",
     "text": [
      "100 days\n"
     ]
    }
   ],
   "source": [
    "print(str(m),\"days\")"
   ]
  },
  {
   "cell_type": "code",
   "execution_count": 45,
   "id": "c4c265a8-b309-47c9-bdbe-94b2fed3ee67",
   "metadata": {},
   "outputs": [
    {
     "name": "stdout",
     "output_type": "stream",
     "text": [
      "100 days\n"
     ]
    }
   ],
   "source": [
    "print(str(m)+\" days\")"
   ]
  },
  {
   "cell_type": "code",
   "execution_count": 53,
   "id": "75522ebf-2d89-44fe-b8a7-fb644d5f1022",
   "metadata": {},
   "outputs": [
    {
     "name": "stdout",
     "output_type": "stream",
     "text": [
      "click \"OK\"\n"
     ]
    }
   ],
   "source": [
    "print(\"click \"+'\"OK\"')"
   ]
  },
  {
   "cell_type": "code",
   "execution_count": 55,
   "id": "dd3442e0-7707-421f-8e69-898dd481bf74",
   "metadata": {},
   "outputs": [
    {
     "name": "stdout",
     "output_type": "stream",
     "text": [
      "big houses\n"
     ]
    }
   ],
   "source": [
    "print(\"big houses\")"
   ]
  },
  {
   "cell_type": "code",
   "execution_count": 57,
   "id": "2897462d-eb93-4225-b74d-c7c96e0f87fe",
   "metadata": {},
   "outputs": [
    {
     "data": {
      "text/plain": [
       "False"
      ]
     },
     "execution_count": 57,
     "metadata": {},
     "output_type": "execute_result"
    }
   ],
   "source": [
    "y==135"
   ]
  },
  {
   "cell_type": "code",
   "execution_count": 59,
   "id": "85dbe437-6d54-4270-9ab8-c6888496365a",
   "metadata": {},
   "outputs": [],
   "source": [
    "y= 5**3"
   ]
  },
  {
   "cell_type": "code",
   "execution_count": 61,
   "id": "c6df2d73-a7d3-4ea1-bfd1-f3f2cf9a90d2",
   "metadata": {},
   "outputs": [
    {
     "data": {
      "text/plain": [
       "True"
      ]
     },
     "execution_count": 61,
     "metadata": {},
     "output_type": "execute_result"
    }
   ],
   "source": [
    "y==125"
   ]
  },
  {
   "cell_type": "code",
   "execution_count": 63,
   "id": "7b8f3e92-87d6-45e7-9cb2-16991645206d",
   "metadata": {},
   "outputs": [
    {
     "data": {
      "text/plain": [
       "False"
      ]
     },
     "execution_count": 63,
     "metadata": {},
     "output_type": "execute_result"
    }
   ],
   "source": [
    "y=100\n",
    "y==98"
   ]
  },
  {
   "cell_type": "code",
   "execution_count": 65,
   "id": "e93fb974-1f2f-4812-ab58-3d2eeb418d67",
   "metadata": {},
   "outputs": [
    {
     "data": {
      "text/plain": [
       "8.0"
      ]
     },
     "execution_count": 65,
     "metadata": {},
     "output_type": "execute_result"
    }
   ],
   "source": [
    "2.0*1.5+5"
   ]
  },
  {
   "cell_type": "code",
   "execution_count": 67,
   "id": "1d17ef04-b255-4741-bead-4f4f9cae2f5c",
   "metadata": {},
   "outputs": [
    {
     "data": {
      "text/plain": [
       "8.0"
      ]
     },
     "execution_count": 67,
     "metadata": {},
     "output_type": "execute_result"
    }
   ],
   "source": [
    "2.0*1.5+5"
   ]
  },
  {
   "cell_type": "code",
   "execution_count": 69,
   "id": "64ab0246-3b24-4a17-a1c2-ed5c62f4d681",
   "metadata": {},
   "outputs": [
    {
     "data": {
      "text/plain": [
       "8.0"
      ]
     },
     "execution_count": 69,
     "metadata": {},
     "output_type": "execute_result"
    }
   ],
   "source": [
    "2.0*1.5+\\\n",
    "5"
   ]
  },
  {
   "cell_type": "code",
   "execution_count": 71,
   "id": "9b0d3980-12d9-48ca-8dcd-4c710ac5505d",
   "metadata": {},
   "outputs": [
    {
     "data": {
      "text/plain": [
       "9.0"
      ]
     },
     "execution_count": 71,
     "metadata": {},
     "output_type": "execute_result"
    }
   ],
   "source": [
    "2.0*2+5"
   ]
  },
  {
   "cell_type": "code",
   "execution_count": 73,
   "id": "971f5129-3551-45f9-a632-924e4714d47e",
   "metadata": {},
   "outputs": [
    {
     "data": {
      "text/plain": [
       "43"
      ]
     },
     "execution_count": 73,
     "metadata": {},
     "output_type": "execute_result"
    }
   ],
   "source": [
    "15+30 \\\n",
    "-2"
   ]
  },
  {
   "cell_type": "code",
   "execution_count": 75,
   "id": "941b7ae6-e1c9-4c52-aa6e-fa82dae0f2c9",
   "metadata": {},
   "outputs": [
    {
     "data": {
      "text/plain": [
       "'d'"
      ]
     },
     "execution_count": 75,
     "metadata": {},
     "output_type": "execute_result"
    }
   ],
   "source": [
    "\"friday\"[3]"
   ]
  },
  {
   "cell_type": "code",
   "execution_count": 77,
   "id": "393fd25c-5083-4ce0-b3b5-9288cb38bfdc",
   "metadata": {},
   "outputs": [
    {
     "data": {
      "text/plain": [
       "'i'"
      ]
     },
     "execution_count": 77,
     "metadata": {},
     "output_type": "execute_result"
    }
   ],
   "source": [
    "'friday'[2]"
   ]
  },
  {
   "cell_type": "code",
   "execution_count": 85,
   "id": "cb660fe2-4a59-4b05-b8c9-67ef804ebbbe",
   "metadata": {},
   "outputs": [
    {
     "name": "stdout",
     "output_type": "stream",
     "text": [
      "10\n"
     ]
    }
   ],
   "source": [
    "def ten(x):\n",
    "    x=10\n",
    "    return x\n",
    "print(ten(1))"
   ]
  },
  {
   "cell_type": "code",
   "execution_count": 87,
   "id": "2cf0bcdb-221a-4da8-ac5b-e8c5c9829f63",
   "metadata": {},
   "outputs": [
    {
     "ename": "IndentationError",
     "evalue": "unexpected indent (1497848314.py, line 2)",
     "output_type": "error",
     "traceback": [
      "\u001b[1;36m  Cell \u001b[1;32mIn[87], line 2\u001b[1;36m\u001b[0m\n\u001b[1;33m    x\u001b[0m\n\u001b[1;37m    ^\u001b[0m\n\u001b[1;31mIndentationError\u001b[0m\u001b[1;31m:\u001b[0m unexpected indent\n"
     ]
    }
   ],
   "source": [
    "x=10\n",
    "    x"
   ]
  },
  {
   "cell_type": "code",
   "execution_count": 89,
   "id": "2361f718-32bd-4cfa-9786-79d24be6a054",
   "metadata": {},
   "outputs": [
    {
     "ename": "IndentationError",
     "evalue": "unexpected indent (3388723237.py, line 2)",
     "output_type": "error",
     "traceback": [
      "\u001b[1;36m  Cell \u001b[1;32mIn[89], line 2\u001b[1;36m\u001b[0m\n\u001b[1;33m    x=5\u001b[0m\n\u001b[1;37m    ^\u001b[0m\n\u001b[1;31mIndentationError\u001b[0m\u001b[1;31m:\u001b[0m unexpected indent\n"
     ]
    }
   ],
   "source": [
    "x=10\n",
    "    x=5"
   ]
  },
  {
   "cell_type": "code",
   "execution_count": 95,
   "id": "577a173f-d61f-4dae-a725-afd38fb2ad9e",
   "metadata": {},
   "outputs": [
    {
     "name": "stdout",
     "output_type": "stream",
     "text": [
      "10\n"
     ]
    }
   ],
   "source": [
    "x=10\n",
    "y=5\n",
    "print(x)"
   ]
  },
  {
   "cell_type": "code",
   "execution_count": 97,
   "id": "d57e1829-c4e7-45ee-8e28-f54d7a9dea06",
   "metadata": {},
   "outputs": [],
   "source": [
    "x=10"
   ]
  },
  {
   "cell_type": "code",
   "execution_count": 99,
   "id": "b248a38a-941a-41f5-82d3-35c067b162b7",
   "metadata": {},
   "outputs": [
    {
     "data": {
      "text/plain": [
       "False"
      ]
     },
     "execution_count": 99,
     "metadata": {},
     "output_type": "execute_result"
    }
   ],
   "source": [
    "y==125"
   ]
  },
  {
   "cell_type": "code",
   "execution_count": 101,
   "id": "813fff32-6fca-4d05-a127-77b42a3dfb9f",
   "metadata": {},
   "outputs": [
    {
     "data": {
      "text/plain": [
       "True"
      ]
     },
     "execution_count": 101,
     "metadata": {},
     "output_type": "execute_result"
    }
   ],
   "source": [
    "y=10\n",
    "y==10"
   ]
  },
  {
   "cell_type": "code",
   "execution_count": 103,
   "id": "ff5e9cf2-6f3a-4db5-af5f-df984a9e5632",
   "metadata": {},
   "outputs": [
    {
     "data": {
      "text/plain": [
       "True"
      ]
     },
     "execution_count": 103,
     "metadata": {},
     "output_type": "execute_result"
    }
   ],
   "source": [
    "x=True\n",
    "x"
   ]
  },
  {
   "cell_type": "code",
   "execution_count": 105,
   "id": "6051416a-29e0-4cdf-8fe8-b729726485c4",
   "metadata": {},
   "outputs": [
    {
     "data": {
      "text/plain": [
       "bool"
      ]
     },
     "execution_count": 105,
     "metadata": {},
     "output_type": "execute_result"
    }
   ],
   "source": [
    "x=True\n",
    "type(x)"
   ]
  },
  {
   "cell_type": "code",
   "execution_count": 107,
   "id": "2ace3e4c-f08f-416f-b47d-cabc3389718d",
   "metadata": {},
   "outputs": [
    {
     "data": {
      "text/plain": [
       "False"
      ]
     },
     "execution_count": 107,
     "metadata": {},
     "output_type": "execute_result"
    }
   ],
   "source": [
    "False or not True and not False"
   ]
  },
  {
   "cell_type": "code",
   "execution_count": 109,
   "id": "708e5ce3-38cf-4083-b553-e6c3d31d25b9",
   "metadata": {},
   "outputs": [
    {
     "data": {
      "text/plain": [
       "False"
      ]
     },
     "execution_count": 109,
     "metadata": {},
     "output_type": "execute_result"
    }
   ],
   "source": [
    "False or not True and not False"
   ]
  },
  {
   "cell_type": "code",
   "execution_count": 111,
   "id": "57f4f7c1-8af7-4c39-89ff-8b0a9dbed631",
   "metadata": {},
   "outputs": [
    {
     "data": {
      "text/plain": [
       "True"
      ]
     },
     "execution_count": 111,
     "metadata": {},
     "output_type": "execute_result"
    }
   ],
   "source": [
    "True and not False and True or not False"
   ]
  },
  {
   "cell_type": "code",
   "execution_count": 113,
   "id": "cf090413-ccd6-4be5-b421-aeee83e94b02",
   "metadata": {},
   "outputs": [
    {
     "data": {
      "text/plain": [
       "True"
      ]
     },
     "execution_count": 113,
     "metadata": {},
     "output_type": "execute_result"
    }
   ],
   "source": [
    "True or False and False"
   ]
  },
  {
   "cell_type": "code",
   "execution_count": 115,
   "id": "e923fdbf-78e6-4566-9cd2-41f71da24a12",
   "metadata": {},
   "outputs": [
    {
     "data": {
      "text/plain": [
       "False"
      ]
     },
     "execution_count": 115,
     "metadata": {},
     "output_type": "execute_result"
    }
   ],
   "source": [
    "False and True or False"
   ]
  },
  {
   "cell_type": "code",
   "execution_count": 117,
   "id": "5d5f1d22-a5a0-40ca-85eb-21b59706f947",
   "metadata": {},
   "outputs": [
    {
     "name": "stderr",
     "output_type": "stream",
     "text": [
      "<>:1: SyntaxWarning: \"is not\" with 'int' literal. Did you mean \"!=\"?\n",
      "<>:1: SyntaxWarning: \"is not\" with 'int' literal. Did you mean \"!=\"?\n",
      "C:\\Users\\Vikrant Yadav\\AppData\\Local\\Temp\\ipykernel_10216\\2742155778.py:1: SyntaxWarning: \"is not\" with 'int' literal. Did you mean \"!=\"?\n",
      "  10 is not 12\n"
     ]
    },
    {
     "data": {
      "text/plain": [
       "True"
      ]
     },
     "execution_count": 117,
     "metadata": {},
     "output_type": "execute_result"
    }
   ],
   "source": [
    "10 is not 12"
   ]
  },
  {
   "cell_type": "code",
   "execution_count": 119,
   "id": "39fa6e2c-f718-4a03-93db-1af98c998156",
   "metadata": {},
   "outputs": [
    {
     "ename": "SyntaxError",
     "evalue": "invalid syntax (2530522820.py, line 1)",
     "output_type": "error",
     "traceback": [
      "\u001b[1;36m  Cell \u001b[1;32mIn[119], line 1\u001b[1;36m\u001b[0m\n\u001b[1;33m    10 IS Not 12\u001b[0m\n\u001b[1;37m       ^\u001b[0m\n\u001b[1;31mSyntaxError\u001b[0m\u001b[1;31m:\u001b[0m invalid syntax\n"
     ]
    }
   ],
   "source": [
    "10 IS Not 12"
   ]
  },
  {
   "cell_type": "code",
   "execution_count": 121,
   "id": "abf52e6e-40b8-40b8-96d4-02597cd3246e",
   "metadata": {},
   "outputs": [
    {
     "name": "stderr",
     "output_type": "stream",
     "text": [
      "<>:1: SyntaxWarning: \"is\" with 'int' literal. Did you mean \"==\"?\n",
      "<>:1: SyntaxWarning: \"is\" with 'int' literal. Did you mean \"==\"?\n",
      "C:\\Users\\Vikrant Yadav\\AppData\\Local\\Temp\\ipykernel_10216\\3938569512.py:1: SyntaxWarning: \"is\" with 'int' literal. Did you mean \"==\"?\n",
      "  10 is 10\n"
     ]
    },
    {
     "data": {
      "text/plain": [
       "True"
      ]
     },
     "execution_count": 121,
     "metadata": {},
     "output_type": "execute_result"
    }
   ],
   "source": [
    "10 is 10"
   ]
  },
  {
   "cell_type": "code",
   "execution_count": 123,
   "id": "481233ae-d3dc-4e02-9c50-37fb3c2a932d",
   "metadata": {},
   "outputs": [
    {
     "name": "stderr",
     "output_type": "stream",
     "text": [
      "<>:1: SyntaxWarning: \"is not\" with 'int' literal. Did you mean \"!=\"?\n",
      "<>:1: SyntaxWarning: \"is not\" with 'int' literal. Did you mean \"!=\"?\n",
      "C:\\Users\\Vikrant Yadav\\AppData\\Local\\Temp\\ipykernel_10216\\3919734364.py:1: SyntaxWarning: \"is not\" with 'int' literal. Did you mean \"!=\"?\n",
      "  10 is not 10\n"
     ]
    },
    {
     "data": {
      "text/plain": [
       "False"
      ]
     },
     "execution_count": 123,
     "metadata": {},
     "output_type": "execute_result"
    }
   ],
   "source": [
    "10 is not 10"
   ]
  },
  {
   "cell_type": "code",
   "execution_count": 125,
   "id": "c608745b-cf81-4983-a864-6e045543cd2d",
   "metadata": {},
   "outputs": [
    {
     "data": {
      "text/plain": [
       "True"
      ]
     },
     "execution_count": 125,
     "metadata": {},
     "output_type": "execute_result"
    }
   ],
   "source": [
    "10==10"
   ]
  },
  {
   "cell_type": "code",
   "execution_count": 127,
   "id": "1fe82940-ea81-4f68-a817-7bc7c02d4c7f",
   "metadata": {},
   "outputs": [],
   "source": [
    "x=10\n",
    "y=25\n",
    "if x>3 and y<13:\n",
    "    print(\"Both conditions are correct\")\n",
    "if x<=3 or y<=13:\n",
    "    print(\"At least one of the conditions is false\")"
   ]
  },
  {
   "cell_type": "code",
   "execution_count": 129,
   "id": "22ce4825-a82e-4096-af24-06bac740828b",
   "metadata": {},
   "outputs": [
    {
     "name": "stdout",
     "output_type": "stream",
     "text": [
      "Both conditions are correct\n"
     ]
    }
   ],
   "source": [
    "x=10\n",
    "y=25\n",
    "if x>3 and y>13:\n",
    "    print(\"Both conditions are correct\")\n",
    "if x<=3 or y<=13:\n",
    "    print(\"At least one of the conditions is false\")"
   ]
  },
  {
   "cell_type": "code",
   "execution_count": 131,
   "id": "0242aab9-ccc7-4334-ab02-258e3fbaa735",
   "metadata": {},
   "outputs": [
    {
     "name": "stdout",
     "output_type": "stream",
     "text": [
      "Both Conditions are correct\n"
     ]
    }
   ],
   "source": [
    "x=10\n",
    "y=25\n",
    "\n",
    "if x > 3 and y > 13:\n",
    "    print(\"Both Conditions are correct\")\n",
    "if x <= 3 or y <= 13:\n",
    "    print(\"At least one of the conditions is false\")"
   ]
  },
  {
   "cell_type": "code",
   "execution_count": 133,
   "id": "9c22e16f-73ea-4aac-aaec-c8fd1fcaa45f",
   "metadata": {},
   "outputs": [
    {
     "name": "stdout",
     "output_type": "stream",
     "text": [
      "A busy day\n"
     ]
    }
   ],
   "source": [
    "x= 102\n",
    "if x>100:\n",
    "    print(\"A busy day\")\n",
    "else:\n",
    "    print(\"A calm day\")"
   ]
  },
  {
   "cell_type": "code",
   "execution_count": 145,
   "id": "e20a7cbb-8071-494d-91fb-72a2ac1bacba",
   "metadata": {},
   "outputs": [],
   "source": [
    "def a_t(x):\n",
    "    if x>200:\n",
    "        return \"Big\"\n",
    "    elif x>100 and x<=200:\n",
    "        return \"Average\"\n",
    "    else:\n",
    "        return \"Small\""
   ]
  },
  {
   "cell_type": "code",
   "execution_count": 149,
   "id": "1ce0a86e-3160-4e9a-ac77-66a65e8a6f14",
   "metadata": {},
   "outputs": [],
   "source": [
    "x=200\n",
    "def a_t(x):\n",
    "    if x>200:\n",
    "        print (\"Big\")\n",
    "    elif x>100 and x<=200:\n",
    "        print (\"Average\")\n",
    "    else:\n",
    "        print (\"Small\")"
   ]
  },
  {
   "cell_type": "code",
   "execution_count": 151,
   "id": "f29d3641-c9dc-49ee-9a72-1827b3408c5f",
   "metadata": {},
   "outputs": [
    {
     "name": "stdout",
     "output_type": "stream",
     "text": [
      "Average\n"
     ]
    }
   ],
   "source": [
    "x = 200\n",
    "\n",
    "if x > 200: \n",
    "    print (\"Big\")\n",
    "elif x > 100 and x <= 200:\n",
    "    print (\"Average\")\n",
    "else:\n",
    "    print (\"Small\")    "
   ]
  },
  {
   "cell_type": "code",
   "execution_count": 155,
   "id": "e4a7f0c4-c96f-48da-b11f-b017f6d34fab",
   "metadata": {},
   "outputs": [
    {
     "name": "stdout",
     "output_type": "stream",
     "text": [
      "Small\n"
     ]
    }
   ],
   "source": [
    "x=20\n",
    "if x>200:\n",
    "    print (\"Big\")\n",
    "elif x>100 and x<=100:\n",
    "    print (\"Average\")\n",
    "else:\n",
    "    print (\"Small\")\n"
   ]
  },
  {
   "cell_type": "code",
   "execution_count": 161,
   "id": "8908eb5a-664c-4d0d-b0d2-ec00e359d5a4",
   "metadata": {},
   "outputs": [
    {
     "name": "stdout",
     "output_type": "stream",
     "text": [
      "Raised to the power of 2:\n"
     ]
    },
    {
     "data": {
      "text/plain": [
       "25"
      ]
     },
     "execution_count": 161,
     "metadata": {},
     "output_type": "execute_result"
    }
   ],
   "source": [
    "def exponentian_exp_2(x):\n",
    "    print(\"Raised to the power of 2:\")\n",
    "    result = x**2\n",
    "    return result\n",
    "exponentian_exp_2(5)"
   ]
  },
  {
   "cell_type": "code",
   "execution_count": 165,
   "id": "ee756c92-1ed5-4eee-b3d0-b0f617b53639",
   "metadata": {},
   "outputs": [
    {
     "data": {
      "text/plain": [
       "30"
      ]
     },
     "execution_count": 165,
     "metadata": {},
     "output_type": "execute_result"
    }
   ],
   "source": [
    "def plus_five(a):\n",
    "    return a+5\n",
    "    \n",
    "def m_by_3(b):\n",
    "    return plus_five(b)*3\n",
    "\n",
    "m_by_3(5)"
   ]
  },
  {
   "cell_type": "code",
   "execution_count": 167,
   "id": "64ddc13b-f3e8-4e0c-ba5f-6efe6acf2635",
   "metadata": {},
   "outputs": [
    {
     "data": {
      "text/plain": [
       "30"
      ]
     },
     "execution_count": 167,
     "metadata": {},
     "output_type": "execute_result"
    }
   ],
   "source": [
    "def plus_five(a):\n",
    "    return a+5\n",
    "    \n",
    "def m_by_3(a):\n",
    "    return plus_five(a)*3\n",
    "\n",
    "m_by_3(5)"
   ]
  },
  {
   "cell_type": "code",
   "execution_count": 175,
   "id": "f14b82bf-a64d-4939-8ff1-51c821122c85",
   "metadata": {},
   "outputs": [
    {
     "data": {
      "text/plain": [
       "'save'"
      ]
     },
     "execution_count": 175,
     "metadata": {},
     "output_type": "execute_result"
    }
   ],
   "source": [
    "def add_10(m):\n",
    "    if m>=100:\n",
    "        m=m+10\n",
    "        return m\n",
    "    else:\n",
    "        return \"save\"\n",
    "add_10(10)"
   ]
  },
  {
   "cell_type": "code",
   "execution_count": 189,
   "id": "eb947f27-1c52-447f-92ee-4a116362d05c",
   "metadata": {},
   "outputs": [
    {
     "data": {
      "text/plain": [
       "'Equal'"
      ]
     },
     "execution_count": 189,
     "metadata": {},
     "output_type": "execute_result"
    }
   ],
   "source": [
    "def compare_the_two(a,b):\n",
    "    if a>b:\n",
    "        return \"Greater\"\n",
    "    elif b>a:\n",
    "        return \"Less\"\n",
    "    else:\n",
    "        return \"Equal\"\n",
    "compare_the_two(2,2)"
   ]
  },
  {
   "cell_type": "code",
   "execution_count": 193,
   "id": "4448f5c6-3f93-4764-8fc1-392807dc6fd7",
   "metadata": {},
   "outputs": [
    {
     "data": {
      "text/plain": [
       "'Not possible'"
      ]
     },
     "execution_count": 193,
     "metadata": {},
     "output_type": "execute_result"
    }
   ],
   "source": [
    "def distance_from_zero(a):\n",
    "    if type(a) == int or type(a)== float:\n",
    "        return abs(a)\n",
    "    else:\n",
    "        return \"Not possible\"\n",
    "        \n",
    "distance_from_zero(\"cat\")"
   ]
  },
  {
   "cell_type": "code",
   "execution_count": 195,
   "id": "f731ffed-2138-47a0-b46b-fc982e322a20",
   "metadata": {},
   "outputs": [
    {
     "name": "stderr",
     "output_type": "stream",
     "text": [
      "<>:1: SyntaxWarning: str indices must be integers or slices, not tuple; perhaps you missed a comma?\n",
      "<>:1: SyntaxWarning: str indices must be integers or slices, not tuple; perhaps you missed a comma?\n",
      "C:\\Users\\Vikrant Yadav\\AppData\\Local\\Temp\\ipykernel_10216\\3916403978.py:1: SyntaxWarning: str indices must be integers or slices, not tuple; perhaps you missed a comma?\n",
      "  \"Friday\"[1,2]\n",
      "C:\\Users\\Vikrant Yadav\\AppData\\Local\\Temp\\ipykernel_10216\\3916403978.py:1: SyntaxWarning: str indices must be integers or slices, not tuple; perhaps you missed a comma?\n",
      "  \"Friday\"[1,2]\n",
      "C:\\Users\\Vikrant Yadav\\AppData\\Local\\Temp\\ipykernel_10216\\3916403978.py:1: SyntaxWarning: str indices must be integers or slices, not tuple; perhaps you missed a comma?\n",
      "  \"Friday\"[1,2]\n",
      "C:\\Users\\Vikrant Yadav\\AppData\\Local\\Temp\\ipykernel_10216\\3916403978.py:1: SyntaxWarning: str indices must be integers or slices, not tuple; perhaps you missed a comma?\n",
      "  \"Friday\"[1,2]\n",
      "C:\\Users\\Vikrant Yadav\\AppData\\Local\\Temp\\ipykernel_10216\\3916403978.py:1: SyntaxWarning: str indices must be integers or slices, not tuple; perhaps you missed a comma?\n",
      "  \"Friday\"[1,2]\n"
     ]
    },
    {
     "ename": "TypeError",
     "evalue": "string indices must be integers, not 'tuple'",
     "output_type": "error",
     "traceback": [
      "\u001b[1;31m---------------------------------------------------------------------------\u001b[0m",
      "\u001b[1;31mTypeError\u001b[0m                                 Traceback (most recent call last)",
      "Cell \u001b[1;32mIn[195], line 1\u001b[0m\n\u001b[1;32m----> 1\u001b[0m \u001b[38;5;124m\"\u001b[39m\u001b[38;5;124mFriday\u001b[39m\u001b[38;5;124m\"\u001b[39m[\u001b[38;5;241m1\u001b[39m,\u001b[38;5;241m2\u001b[39m]\n",
      "\u001b[1;31mTypeError\u001b[0m: string indices must be integers, not 'tuple'"
     ]
    }
   ],
   "source": [
    "\"Friday\"[1,2]"
   ]
  },
  {
   "cell_type": "code",
   "execution_count": 199,
   "id": "5f188910-6b8d-4e1f-b74f-4e14eea195b8",
   "metadata": {},
   "outputs": [
    {
     "data": {
      "text/plain": [
       "'ri'"
      ]
     },
     "execution_count": 199,
     "metadata": {},
     "output_type": "execute_result"
    }
   ],
   "source": [
    "\"Friday\"[1:3]"
   ]
  },
  {
   "cell_type": "code",
   "execution_count": 201,
   "id": "16d3ed32-ae64-440b-ba6c-25f16ff6c2f4",
   "metadata": {},
   "outputs": [],
   "source": [
    "Numbers=[]"
   ]
  },
  {
   "cell_type": "code",
   "execution_count": 203,
   "id": "d2e521d7-48c8-485b-9ce5-6576b4ae6fc1",
   "metadata": {},
   "outputs": [],
   "source": [
    "Numbers.append(1)"
   ]
  },
  {
   "cell_type": "code",
   "execution_count": 205,
   "id": "f87388e3-e756-4b60-9cb0-54b9809dd03d",
   "metadata": {},
   "outputs": [
    {
     "data": {
      "text/plain": [
       "[1]"
      ]
     },
     "execution_count": 205,
     "metadata": {},
     "output_type": "execute_result"
    }
   ],
   "source": [
    "Numbers"
   ]
  },
  {
   "cell_type": "code",
   "execution_count": 207,
   "id": "9359aebe-043e-4efe-b400-2e271eae09b1",
   "metadata": {},
   "outputs": [
    {
     "ename": "TypeError",
     "evalue": "list.append() takes exactly one argument (3 given)",
     "output_type": "error",
     "traceback": [
      "\u001b[1;31m---------------------------------------------------------------------------\u001b[0m",
      "\u001b[1;31mTypeError\u001b[0m                                 Traceback (most recent call last)",
      "Cell \u001b[1;32mIn[207], line 1\u001b[0m\n\u001b[1;32m----> 1\u001b[0m Numbers\u001b[38;5;241m.\u001b[39mappend(\u001b[38;5;241m3\u001b[39m,\u001b[38;5;241m4\u001b[39m,\u001b[38;5;241m5\u001b[39m)\n",
      "\u001b[1;31mTypeError\u001b[0m: list.append() takes exactly one argument (3 given)"
     ]
    }
   ],
   "source": [
    "Numbers.append(3,4,5)"
   ]
  },
  {
   "cell_type": "code",
   "execution_count": 209,
   "id": "c3103a95-098b-4036-815d-8ca4e0c69d58",
   "metadata": {},
   "outputs": [],
   "source": [
    "Numbers.append(4)"
   ]
  },
  {
   "cell_type": "code",
   "execution_count": 211,
   "id": "00c3bab1-61d5-4827-a85e-1989adf3369c",
   "metadata": {},
   "outputs": [],
   "source": [
    "Numbers.append(5)"
   ]
  },
  {
   "cell_type": "code",
   "execution_count": 213,
   "id": "19ff7af2-6b5b-4f87-9b6a-d99d81f611be",
   "metadata": {},
   "outputs": [],
   "source": [
    "Numbers.insert(5,1)"
   ]
  },
  {
   "cell_type": "code",
   "execution_count": 215,
   "id": "777476ae-294a-4df5-8a85-9c4822316efc",
   "metadata": {},
   "outputs": [
    {
     "data": {
      "text/plain": [
       "[1, 4, 5, 1]"
      ]
     },
     "execution_count": 215,
     "metadata": {},
     "output_type": "execute_result"
    }
   ],
   "source": [
    "Numbers"
   ]
  },
  {
   "cell_type": "code",
   "execution_count": 217,
   "id": "ddde38a3-207f-4c2d-91ed-377f3de93675",
   "metadata": {},
   "outputs": [
    {
     "data": {
      "text/plain": [
       "[1, 2, 3, 4, 5, 6, 7, 8, 9, 10]"
      ]
     },
     "execution_count": 217,
     "metadata": {},
     "output_type": "execute_result"
    }
   ],
   "source": [
    "range(1,11,1)\n",
    "list(range(1,11,1))"
   ]
  },
  {
   "cell_type": "code",
   "execution_count": 221,
   "id": "17829904-1ef1-4f2e-a6e9-e4b422503505",
   "metadata": {},
   "outputs": [
    {
     "data": {
      "text/plain": [
       "3"
      ]
     },
     "execution_count": 221,
     "metadata": {},
     "output_type": "execute_result"
    }
   ],
   "source": [
    "nums = [1,35,12,24,31,51,70,100,17]\n",
    "def count(x):\n",
    "    a=0\n",
    "    x=sorted(x)\n",
    "    while x[a]<20:\n",
    "        a+=1\n",
    "    return a\n",
    "\n",
    "count(nums)"
   ]
  },
  {
   "cell_type": "code",
   "execution_count": 223,
   "id": "04d36479-65bd-4dd8-8f23-5df41f3074aa",
   "metadata": {},
   "outputs": [
    {
     "name": "stdout",
     "output_type": "stream",
     "text": [
      "True\n"
     ]
    }
   ],
   "source": [
    "print(17>3)"
   ]
  },
  {
   "cell_type": "code",
   "execution_count": null,
   "id": "b28540b2-1546-421e-9ca3-07e67ea125da",
   "metadata": {},
   "outputs": [],
   "source": []
  }
 ],
 "metadata": {
  "kernelspec": {
   "display_name": "Python 3 (ipykernel)",
   "language": "python",
   "name": "python3"
  },
  "language_info": {
   "codemirror_mode": {
    "name": "ipython",
    "version": 3
   },
   "file_extension": ".py",
   "mimetype": "text/x-python",
   "name": "python",
   "nbconvert_exporter": "python",
   "pygments_lexer": "ipython3",
   "version": "3.12.4"
  }
 },
 "nbformat": 4,
 "nbformat_minor": 5
}
