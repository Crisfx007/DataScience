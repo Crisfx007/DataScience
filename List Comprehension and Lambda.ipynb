{
 "cells": [
  {
   "cell_type": "markdown",
   "id": "e2f161a7-f51a-4333-83b9-80432f02dfde",
   "metadata": {},
   "source": [
    "### Techniques to use .format()"
   ]
  },
  {
   "cell_type": "code",
   "execution_count": 1,
   "id": "f40d5dc7-6293-4b3e-b907-602e837c3344",
   "metadata": {},
   "outputs": [
    {
     "data": {
      "text/plain": [
       "(1, 3, 12)"
      ]
     },
     "execution_count": 1,
     "metadata": {},
     "output_type": "execute_result"
    }
   ],
   "source": [
    "time_horizon = 1,3,12\n",
    "time_horizon"
   ]
  },
  {
   "cell_type": "code",
   "execution_count": 5,
   "id": "549d4408-494c-4cba-940f-f0914fb094be",
   "metadata": {},
   "outputs": [
    {
     "data": {
      "text/plain": [
       "['Product A', 'Product B']"
      ]
     },
     "execution_count": 5,
     "metadata": {},
     "output_type": "execute_result"
    }
   ],
   "source": [
    "products = ['Product A' , 'Product B']\n",
    "products"
   ]
  },
  {
   "cell_type": "code",
   "execution_count": 7,
   "id": "14b1dd42-4eb7-4923-aaaa-3819ed537b69",
   "metadata": {},
   "outputs": [
    {
     "data": {
      "text/plain": [
       "'Expected Sales for a period of 12 month(s) for Product B:'"
      ]
     },
     "execution_count": 7,
     "metadata": {},
     "output_type": "execute_result"
    }
   ],
   "source": [
    "'Expected Sales for a period of {} month(s) for {}:'.format(12, 'Product B')"
   ]
  },
  {
   "cell_type": "code",
   "execution_count": 11,
   "id": "409bc807-11d6-410e-af17-730185a2fe06",
   "metadata": {},
   "outputs": [
    {
     "data": {
      "text/plain": [
       "'Expected Sales for a period of 12 month(s) for Product B:'"
      ]
     },
     "execution_count": 11,
     "metadata": {},
     "output_type": "execute_result"
    }
   ],
   "source": [
    "'Expected Sales for a period of {} month(s) for {}:'.format(time_horizon[2], products[1])"
   ]
  },
  {
   "cell_type": "code",
   "execution_count": 13,
   "id": "fb629875-801e-476a-bfb8-3adb691fdadf",
   "metadata": {},
   "outputs": [
    {
     "data": {
      "text/plain": [
       "'Expected Sales for a period of 12 month(s) for Product B:'"
      ]
     },
     "execution_count": 13,
     "metadata": {},
     "output_type": "execute_result"
    }
   ],
   "source": [
    "'Expected Sales for a period of {0} month(s) for {1}:'.format(time_horizon[2], products[1])"
   ]
  },
  {
   "cell_type": "code",
   "execution_count": 15,
   "id": "c0998652-d466-4933-bec4-2995fe248836",
   "metadata": {},
   "outputs": [
    {
     "data": {
      "text/plain": [
       "'Expected Sales for a period of Product B month(s) for 12:'"
      ]
     },
     "execution_count": 15,
     "metadata": {},
     "output_type": "execute_result"
    }
   ],
   "source": [
    "'Expected Sales for a period of {1} month(s) for {0}:'.format(time_horizon[2], products[1])"
   ]
  },
  {
   "cell_type": "code",
   "execution_count": 17,
   "id": "319b5336-47e2-40c5-a797-65a305df1dbd",
   "metadata": {},
   "outputs": [
    {
     "data": {
      "text/plain": [
       "'Expected Sales for a period of 12 month(s) for Product B:'"
      ]
     },
     "execution_count": 17,
     "metadata": {},
     "output_type": "execute_result"
    }
   ],
   "source": [
    "'Expected Sales for a period of {t_hor} month(s) for {prod}:'.format(t_hor =12, prod='Product B')"
   ]
  },
  {
   "cell_type": "code",
   "execution_count": 19,
   "id": "f6c01e14-213a-44c2-ae65-394aa3d1e8fb",
   "metadata": {},
   "outputs": [
    {
     "data": {
      "text/plain": [
       "\"Expected Sales for a period of 12 month(s) for ['Product A', 'Product B']:\""
      ]
     },
     "execution_count": 19,
     "metadata": {},
     "output_type": "execute_result"
    }
   ],
   "source": [
    "'Expected Sales for a period of {t_hor} month(s) for {prod}:'.format(t_hor =12, prod=['Product A','Product B'])"
   ]
  },
  {
   "cell_type": "code",
   "execution_count": 21,
   "id": "ca1c4b84-2c0d-414c-b0a3-da4a48a94485",
   "metadata": {},
   "outputs": [
    {
     "data": {
      "text/plain": [
       "'Expected Sales for a period of 12 month(s) for Product B:'"
      ]
     },
     "execution_count": 21,
     "metadata": {},
     "output_type": "execute_result"
    }
   ],
   "source": [
    "'Expected Sales for a period of {t_hor} month(s) for {prod[1]}:'.format(t_hor =12, prod=['Product A','Product B'])"
   ]
  },
  {
   "cell_type": "code",
   "execution_count": 23,
   "id": "43274a49-7217-464a-86bc-886f7b13b4f7",
   "metadata": {},
   "outputs": [
    {
     "data": {
      "text/plain": [
       "'Expected Sales for a period of 12 month(s) for Product B:'"
      ]
     },
     "execution_count": 23,
     "metadata": {},
     "output_type": "execute_result"
    }
   ],
   "source": [
    "'Expected Sales for a period of {t_hor[2]} month(s) for {prod[1]}:'.format(t_hor =time_horizon, prod=products)"
   ]
  },
  {
   "cell_type": "code",
   "execution_count": 25,
   "id": "3dc6bc2c-c423-4a1a-97f7-24740aa2a205",
   "metadata": {},
   "outputs": [
    {
     "data": {
      "text/plain": [
       "'Expected Sales for a period of 12 month(s) for Product B: $10000'"
      ]
     },
     "execution_count": 25,
     "metadata": {},
     "output_type": "execute_result"
    }
   ],
   "source": [
    "'Expected Sales for a period of {t_hor[2]} month(s) for {prod[1]}: ${sales}'.format(t_hor =time_horizon, prod=products, sales=10000)"
   ]
  },
  {
   "cell_type": "code",
   "execution_count": 31,
   "id": "45cc659b-75d0-41a6-99df-f872677e8665",
   "metadata": {},
   "outputs": [
    {
     "data": {
      "text/plain": [
       "'Expected Sales for a period of 12 month(s) for Product B: $10000'"
      ]
     },
     "execution_count": 31,
     "metadata": {},
     "output_type": "execute_result"
    }
   ],
   "source": [
    "'Expected Sales for a period of {0} month(s) for {prod[1]}: ${sales}'.format(12, prod=products, sales=10000)"
   ]
  },
  {
   "cell_type": "markdown",
   "id": "b64550c8-08ea-4c13-a159-ad291ad411ac",
   "metadata": {},
   "source": [
    "### Iterating over range objects"
   ]
  },
  {
   "cell_type": "code",
   "execution_count": 62,
   "id": "007b49dd-4ca0-4818-ae2c-38d59f965b44",
   "metadata": {},
   "outputs": [
    {
     "data": {
      "text/plain": [
       "(4, 5, 6, 7)"
      ]
     },
     "execution_count": 62,
     "metadata": {},
     "output_type": "execute_result"
    }
   ],
   "source": [
    "t = (4,5,6,7)\n",
    "t"
   ]
  },
  {
   "cell_type": "code",
   "execution_count": 64,
   "id": "da3d56bb-3c77-494a-987d-93e5248aa5a6",
   "metadata": {},
   "outputs": [
    {
     "data": {
      "text/plain": [
       "[10.5, 20.75, 30.0]"
      ]
     },
     "execution_count": 64,
     "metadata": {},
     "output_type": "execute_result"
    }
   ],
   "source": [
    "l = [10.5, 20.75, 30.00]\n",
    "l"
   ]
  },
  {
   "cell_type": "code",
   "execution_count": 66,
   "id": "f69fd75f-bb02-4c8a-934e-7a36e2f01f94",
   "metadata": {},
   "outputs": [
    {
     "data": {
      "text/plain": [
       "'abcde'"
      ]
     },
     "execution_count": 66,
     "metadata": {},
     "output_type": "execute_result"
    }
   ],
   "source": [
    "s = 'abcde'\n",
    "s"
   ]
  },
  {
   "cell_type": "code",
   "execution_count": 68,
   "id": "9c7b612a-7a6b-4c88-a974-b7999daf792f",
   "metadata": {},
   "outputs": [
    {
     "name": "stdout",
     "output_type": "stream",
     "text": [
      "4 5 6 7 "
     ]
    }
   ],
   "source": [
    "for i in t:\n",
    "    print(i, end=\" \")"
   ]
  },
  {
   "cell_type": "code",
   "execution_count": 70,
   "id": "182f8c99-4094-4f2b-b867-f5395495f3ed",
   "metadata": {},
   "outputs": [
    {
     "name": "stdout",
     "output_type": "stream",
     "text": [
      "0 1 2 3 4 "
     ]
    }
   ],
   "source": [
    "for i in range(5):\n",
    "    print(i, end =\" \")"
   ]
  },
  {
   "cell_type": "markdown",
   "id": "506b08aa-fe54-4fb0-af9b-81347219014f",
   "metadata": {},
   "source": [
    "### Nested Loops"
   ]
  },
  {
   "cell_type": "code",
   "execution_count": 73,
   "id": "300d5079-96f9-48ef-b1bd-01db01c25d31",
   "metadata": {},
   "outputs": [
    {
     "name": "stdout",
     "output_type": "stream",
     "text": [
      "0\n",
      "1\n"
     ]
    }
   ],
   "source": [
    "for i in range(2):\n",
    "    print(i)"
   ]
  },
  {
   "cell_type": "code",
   "execution_count": 75,
   "id": "495edf91-b90e-4a1f-9f63-a61a9f9e5a37",
   "metadata": {},
   "outputs": [
    {
     "name": "stdout",
     "output_type": "stream",
     "text": [
      "0\n",
      "1\n",
      "2\n",
      "3\n",
      "4\n"
     ]
    }
   ],
   "source": [
    "for j in range(5):\n",
    "    print(j)"
   ]
  },
  {
   "cell_type": "code",
   "execution_count": 77,
   "id": "4ba16432-d822-4922-983f-cbf9d843a8bd",
   "metadata": {},
   "outputs": [
    {
     "name": "stdout",
     "output_type": "stream",
     "text": [
      "0\n",
      "1\n",
      "2\n",
      "3\n",
      "4\n",
      "0\n",
      "1\n",
      "2\n",
      "3\n",
      "4\n"
     ]
    }
   ],
   "source": [
    "for i in range(2):\n",
    "    for j in range(5):\n",
    "        print(j)"
   ]
  },
  {
   "cell_type": "code",
   "execution_count": 81,
   "id": "0277ae03-3caa-4737-a046-9cee64deec37",
   "metadata": {},
   "outputs": [
    {
     "name": "stdout",
     "output_type": "stream",
     "text": [
      "[0, 0]\n",
      "[0, 1]\n",
      "[0, 2]\n",
      "[0, 3]\n",
      "[0, 4]\n",
      "[1, 0]\n",
      "[1, 1]\n",
      "[1, 2]\n",
      "[1, 3]\n",
      "[1, 4]\n"
     ]
    }
   ],
   "source": [
    "for i in range(2):\n",
    "    for j in range(5):\n",
    "        print([i,j])"
   ]
  },
  {
   "cell_type": "code",
   "execution_count": 83,
   "id": "65e23593-65b8-49dc-ad34-d9245c65c0dc",
   "metadata": {},
   "outputs": [
    {
     "name": "stdout",
     "output_type": "stream",
     "text": [
      "['Product A', 0]\n",
      "['Product A', 1]\n",
      "['Product A', 2]\n",
      "['Product A', 3]\n",
      "['Product A', 4]\n",
      "['Product B', 0]\n",
      "['Product B', 1]\n",
      "['Product B', 2]\n",
      "['Product B', 3]\n",
      "['Product B', 4]\n"
     ]
    }
   ],
   "source": [
    "for i in ['Product A', 'Product B']:\n",
    "    for j in range(5):\n",
    "        print([i,j])"
   ]
  },
  {
   "cell_type": "code",
   "execution_count": 89,
   "id": "9f179637-55da-4ca5-958f-ca4a5330b721",
   "metadata": {},
   "outputs": [
    {
     "name": "stdout",
     "output_type": "stream",
     "text": [
      "['Product A', 100]\n",
      "['Product A', 200]\n",
      "['Product A', 300]\n",
      "['Product A', 400]\n",
      "['Product A', 500]\n",
      "['Product B', 100]\n",
      "['Product B', 200]\n",
      "['Product B', 300]\n",
      "['Product B', 400]\n",
      "['Product B', 500]\n"
     ]
    }
   ],
   "source": [
    "products = ['Product A', 'Product B']\n",
    "exp_sales = [100,200,300,400,500]\n",
    "for i in products:\n",
    "    for j in exp_sales:\n",
    "        print([i,j])"
   ]
  },
  {
   "cell_type": "code",
   "execution_count": null,
   "id": "95a93f15-02ed-4c37-989e-6482bec31e64",
   "metadata": {},
   "outputs": [],
   "source": [
    "products = ['Product A', 'Product B']\n",
    "exp_sales = [100,200,300,400,500]\n",
    "time_horizon = (1,3,12)\n",
    "for i in products:\n",
    "    for j in exp_sales:\n",
    "        for k in time_horizon:\n",
    "            print([i,j*k])"
   ]
  },
  {
   "cell_type": "code",
   "execution_count": 103,
   "id": "a3ef6657-bffc-4c64-b8e8-17c0e200b07a",
   "metadata": {},
   "outputs": [
    {
     "data": {
      "text/plain": [
       "[0, 1, 2, 3, 4, 5, 6, 7, 8, 9]"
      ]
     },
     "execution_count": 103,
     "metadata": {},
     "output_type": "execute_result"
    }
   ],
   "source": [
    "d=[]\n",
    "for i in range(10):\n",
    "    d.append(i)\n",
    "d"
   ]
  },
  {
   "cell_type": "markdown",
   "id": "4b8a6399-e70f-47c0-a545-23933ddc893e",
   "metadata": {},
   "source": [
    "### List Comprehensions"
   ]
  },
  {
   "cell_type": "code",
   "execution_count": 106,
   "id": "2f019e10-14c9-4906-8680-385ed29f3b95",
   "metadata": {},
   "outputs": [
    {
     "data": {
      "text/plain": [
       "[1, 13, 4, 5, 63, 100]"
      ]
     },
     "execution_count": 106,
     "metadata": {},
     "output_type": "execute_result"
    }
   ],
   "source": [
    "numbers =[ 1,13,4,5,63,100]\n",
    "numbers"
   ]
  },
  {
   "cell_type": "code",
   "execution_count": 110,
   "id": "d6d24948-e593-4e0b-afcd-086107df73cd",
   "metadata": {},
   "outputs": [
    {
     "name": "stdout",
     "output_type": "stream",
     "text": [
      "[2, 26, 8, 10, 126, 200]\n"
     ]
    }
   ],
   "source": [
    "new_numbers = []\n",
    "for n in numbers:\n",
    "    new_numbers.append(n*2)\n",
    "\n",
    "print(new_numbers)"
   ]
  },
  {
   "cell_type": "code",
   "execution_count": 112,
   "id": "dbf852df-52bf-444a-b76e-bcd82e5148a6",
   "metadata": {},
   "outputs": [
    {
     "name": "stdout",
     "output_type": "stream",
     "text": [
      "[2, 26, 8, 10, 126, 200]\n"
     ]
    }
   ],
   "source": [
    "new_numbers = [n*2 for n in numbers]\n",
    "print(new_numbers)"
   ]
  },
  {
   "cell_type": "code",
   "execution_count": 114,
   "id": "75af71ce-c81b-4736-8b31-7c8d479ad91b",
   "metadata": {},
   "outputs": [
    {
     "name": "stdout",
     "output_type": "stream",
     "text": [
      "0 1 2 3 4 1 2 3 4 5 "
     ]
    }
   ],
   "source": [
    "for i in range(2):\n",
    "    for j in range(5):\n",
    "        print(i+j, end=\" \")"
   ]
  },
  {
   "cell_type": "code",
   "execution_count": 116,
   "id": "905454b9-cb85-4390-8840-9ac7ea4035ee",
   "metadata": {},
   "outputs": [
    {
     "name": "stdout",
     "output_type": "stream",
     "text": [
      "[0, 1, 2, 3, 4, 1, 2, 3, 4, 5]\n"
     ]
    }
   ],
   "source": [
    "new_list_comprehension_1 = [i+j for i in range(2) for j in range(5)]\n",
    "print(new_list_comprehension_1)"
   ]
  },
  {
   "cell_type": "code",
   "execution_count": 118,
   "id": "ca727dff-eb99-43e4-95b7-23ca37071e81",
   "metadata": {},
   "outputs": [
    {
     "data": {
      "text/plain": [
       "list"
      ]
     },
     "execution_count": 118,
     "metadata": {},
     "output_type": "execute_result"
    }
   ],
   "source": [
    "type(new_list_comprehension_1)"
   ]
  },
  {
   "cell_type": "code",
   "execution_count": 120,
   "id": "f64e6c2d-4292-45de-a48c-da8007ffb793",
   "metadata": {},
   "outputs": [
    {
     "data": {
      "text/plain": [
       "[[0, 1], [1, 2], [2, 3], [3, 4], [4, 5]]"
      ]
     },
     "execution_count": 120,
     "metadata": {},
     "output_type": "execute_result"
    }
   ],
   "source": [
    "new_list_2 = [[i+j for i in range(2)] for j in range(5)]\n",
    "new_list_2"
   ]
  },
  {
   "cell_type": "code",
   "execution_count": 122,
   "id": "d2aa7935-b1a0-48d2-b94b-1f2da35b51a1",
   "metadata": {},
   "outputs": [
    {
     "data": {
      "text/plain": [
       "list"
      ]
     },
     "execution_count": 122,
     "metadata": {},
     "output_type": "execute_result"
    }
   ],
   "source": [
    "type(new_list_2)"
   ]
  },
  {
   "cell_type": "code",
   "execution_count": 124,
   "id": "1ac835aa-8d86-41f7-a632-736ffdcc9d3d",
   "metadata": {},
   "outputs": [
    {
     "data": {
      "text/plain": [
       "int"
      ]
     },
     "execution_count": 124,
     "metadata": {},
     "output_type": "execute_result"
    }
   ],
   "source": [
    "type(new_list_comprehension_1[1])"
   ]
  },
  {
   "cell_type": "code",
   "execution_count": 126,
   "id": "5a3544a3-84ca-4f40-a4c7-ec93f74b8d06",
   "metadata": {},
   "outputs": [
    {
     "data": {
      "text/plain": [
       "[1, 2, 3, 4, 5, 6, 7, 8, 9, 10]"
      ]
     },
     "execution_count": 126,
     "metadata": {},
     "output_type": "execute_result"
    }
   ],
   "source": [
    "list(range(1,11))"
   ]
  },
  {
   "cell_type": "code",
   "execution_count": 132,
   "id": "f4e3469f-ce2c-4d7f-9d1b-9e7466548135",
   "metadata": {},
   "outputs": [
    {
     "data": {
      "text/plain": [
       "[1, 27, 125, 343, 729]"
      ]
     },
     "execution_count": 132,
     "metadata": {},
     "output_type": "execute_result"
    }
   ],
   "source": [
    "[ num**3 for num in range(1,11) if num%2!=0]"
   ]
  },
  {
   "cell_type": "code",
   "execution_count": 134,
   "id": "187d24dd-b21c-400c-a16a-1921f27a1bab",
   "metadata": {},
   "outputs": [
    {
     "name": "stdout",
     "output_type": "stream",
     "text": [
      "1 27 125 343 729 "
     ]
    }
   ],
   "source": [
    "for i in range (1,11):\n",
    "    if i%2!=0:\n",
    "        print(i**3, end=\" \")"
   ]
  },
  {
   "cell_type": "code",
   "execution_count": 136,
   "id": "5d425c12-52db-444e-88e7-d61275460bbe",
   "metadata": {},
   "outputs": [
    {
     "ename": "SyntaxError",
     "evalue": "expected 'else' after 'if' expression (608059722.py, line 1)",
     "output_type": "error",
     "traceback": [
      "\u001b[1;36m  Cell \u001b[1;32mIn[136], line 1\u001b[1;36m\u001b[0m\n\u001b[1;33m    [num**3 if num%2!=0 for num in range(1,11)]\u001b[0m\n\u001b[1;37m     ^\u001b[0m\n\u001b[1;31mSyntaxError\u001b[0m\u001b[1;31m:\u001b[0m expected 'else' after 'if' expression\n"
     ]
    }
   ],
   "source": [
    "[num**3 if num%2!=0 for num in range(1,11)]"
   ]
  },
  {
   "cell_type": "code",
   "execution_count": 138,
   "id": "9c657fd8-b5a7-4659-8258-a3639e4f3a25",
   "metadata": {},
   "outputs": [
    {
     "data": {
      "text/plain": [
       "[1, 'even', 27, 'even', 125, 'even', 343, 'even', 729, 'even']"
      ]
     },
     "execution_count": 138,
     "metadata": {},
     "output_type": "execute_result"
    }
   ],
   "source": [
    "[num**3 if num%2!=0 else \"even\" for num in range(1,11)]"
   ]
  },
  {
   "cell_type": "code",
   "execution_count": 154,
   "id": "69b10004-9368-4103-b6a4-c93f1e547d3e",
   "metadata": {},
   "outputs": [
    {
     "name": "stdout",
     "output_type": "stream",
     "text": [
      "['Chair_Type_1', 100000]\n",
      "['Chair_Type_1', 150000]\n",
      "['Chair_Type_1', 130000]\n",
      "['Chair_Type_1', 120000]\n",
      "['Chair_Type_1', 180000]\n",
      "['Chair_Type_1', 156000]\n",
      "['Chair_Type_1', 135000]\n",
      "['Chair_Type_1', 202500]\n",
      "['Chair_Type_1', 175500]\n",
      "['Chair_Type_1', 150000]\n",
      "['Chair_Type_1', 225000]\n",
      "['Chair_Type_1', 195000]\n",
      "['Chair_Type_2', 100000]\n",
      "['Chair_Type_2', 150000]\n",
      "['Chair_Type_2', 130000]\n",
      "['Chair_Type_2', 120000]\n",
      "['Chair_Type_2', 180000]\n",
      "['Chair_Type_2', 156000]\n",
      "['Chair_Type_2', 135000]\n",
      "['Chair_Type_2', 202500]\n",
      "['Chair_Type_2', 175500]\n",
      "['Chair_Type_2', 150000]\n",
      "['Chair_Type_2', 225000]\n",
      "['Chair_Type_2', 195000]\n",
      "['Chair_Type_3', 100000]\n",
      "['Chair_Type_3', 150000]\n",
      "['Chair_Type_3', 130000]\n",
      "['Chair_Type_3', 120000]\n",
      "['Chair_Type_3', 180000]\n",
      "['Chair_Type_3', 156000]\n",
      "['Chair_Type_3', 135000]\n",
      "['Chair_Type_3', 202500]\n",
      "['Chair_Type_3', 175500]\n",
      "['Chair_Type_3', 150000]\n",
      "['Chair_Type_3', 225000]\n",
      "['Chair_Type_3', 195000]\n",
      "['Chair_Type_4', 100000]\n",
      "['Chair_Type_4', 150000]\n",
      "['Chair_Type_4', 130000]\n",
      "['Chair_Type_4', 120000]\n",
      "['Chair_Type_4', 180000]\n",
      "['Chair_Type_4', 156000]\n",
      "['Chair_Type_4', 135000]\n",
      "['Chair_Type_4', 202500]\n",
      "['Chair_Type_4', 175500]\n",
      "['Chair_Type_4', 150000]\n",
      "['Chair_Type_4', 225000]\n",
      "['Chair_Type_4', 195000]\n"
     ]
    }
   ],
   "source": [
    "products_on_sale = ['Chair_Type_1', 'Chair_Type_2', 'Chair_Type_3', 'Chair_Type_4']\n",
    "sale_prices = [100, 120, 135, 150]\n",
    "quantities = [1000, 1500, 1300]\n",
    "\n",
    "sales_revenue = [[chair_type,price*quantity] for chair_type in products_on_sale for price in sale_prices for quantity in quantities ]\n",
    "for revenue in sales_revenue:\n",
    "    print(revenue)"
   ]
  },
  {
   "cell_type": "code",
   "execution_count": 160,
   "id": "ad09ed4f-72d8-4f5e-ba9d-edeaa75b5689",
   "metadata": {},
   "outputs": [
    {
     "name": "stdout",
     "output_type": "stream",
     "text": [
      "[0, 20, 40, 60, 80, 100]\n"
     ]
    }
   ],
   "source": [
    "even = [n*10 for n in range(11) if n%2==0]\n",
    "print(even)"
   ]
  },
  {
   "cell_type": "code",
   "execution_count": 170,
   "id": "19feb0f1-a11a-4b0b-8410-6c0349f38dd4",
   "metadata": {},
   "outputs": [
    {
     "data": {
      "text/plain": [
       "[20, 40, 60, 80, 100]"
      ]
     },
     "execution_count": 170,
     "metadata": {},
     "output_type": "execute_result"
    }
   ],
   "source": [
    "[num * 10 for num in list(range(1, 11)) if num % 2 == 0]"
   ]
  },
  {
   "cell_type": "code",
   "execution_count": 164,
   "id": "9bd97325-193d-4d0e-a69b-2b7c0f312386",
   "metadata": {},
   "outputs": [
    {
     "name": "stdout",
     "output_type": "stream",
     "text": [
      "[20, 40, 60, 80, 100]\n"
     ]
    }
   ],
   "source": [
    "y = list(range(1,11))\n",
    "x = [num * 10 for num in y if num % 2 == 0]\n",
    "print(x)"
   ]
  },
  {
   "cell_type": "code",
   "execution_count": 166,
   "id": "ce1a1baf-65d7-4730-a131-33204b32953a",
   "metadata": {},
   "outputs": [
    {
     "name": "stdout",
     "output_type": "stream",
     "text": [
      "['None', 20, 'None', 40, 'None', 60, 'None', 80, 'None', 100]\n"
     ]
    }
   ],
   "source": [
    "y = list(range(1,11))\n",
    "x = [num * 10 if num % 2 == 0 else 'None' for num in y ]\n",
    "print(x)"
   ]
  },
  {
   "cell_type": "code",
   "execution_count": 168,
   "id": "767d070c-531c-4f63-b483-277c67e029f2",
   "metadata": {},
   "outputs": [
    {
     "data": {
      "text/plain": [
       "['None', 20, 'None', 40, 'None', 60, 'None', 80, 'None', 100]"
      ]
     },
     "execution_count": 168,
     "metadata": {},
     "output_type": "execute_result"
    }
   ],
   "source": [
    "[num * 10 if num % 2 == 0 else \"None\" for num in list(range(1, 11))]"
   ]
  },
  {
   "cell_type": "markdown",
   "id": "c1fcd189-5649-42b4-a5fd-a990fb0ee6e6",
   "metadata": {},
   "source": [
    "### Lambda Functions"
   ]
  },
  {
   "cell_type": "code",
   "execution_count": 173,
   "id": "416f34a3-d6ab-4540-a36d-49b696045b47",
   "metadata": {},
   "outputs": [],
   "source": [
    "def raise_to_2(x):\n",
    "    return x**2"
   ]
  },
  {
   "cell_type": "code",
   "execution_count": 175,
   "id": "bb545c01-dd14-4448-8e6b-f3883d4da9e9",
   "metadata": {},
   "outputs": [
    {
     "data": {
      "text/plain": [
       "25"
      ]
     },
     "execution_count": 175,
     "metadata": {},
     "output_type": "execute_result"
    }
   ],
   "source": [
    "raise_to_2(5)"
   ]
  },
  {
   "cell_type": "code",
   "execution_count": 177,
   "id": "c353991d-1330-4ba0-9e0e-1c3b9596febb",
   "metadata": {},
   "outputs": [
    {
     "data": {
      "text/plain": [
       "<function __main__.<lambda>(x)>"
      ]
     },
     "execution_count": 177,
     "metadata": {},
     "output_type": "execute_result"
    }
   ],
   "source": [
    "lambda x: x**2"
   ]
  },
  {
   "cell_type": "code",
   "execution_count": 179,
   "id": "5573c0e7-fd23-4764-afce-03f0ff50c402",
   "metadata": {},
   "outputs": [],
   "source": [
    "A = lambda x: x**2"
   ]
  },
  {
   "cell_type": "code",
   "execution_count": 181,
   "id": "703fa670-8a55-4e53-9f55-e8bf25611548",
   "metadata": {},
   "outputs": [
    {
     "data": {
      "text/plain": [
       "25"
      ]
     },
     "execution_count": 181,
     "metadata": {},
     "output_type": "execute_result"
    }
   ],
   "source": [
    "A(5)"
   ]
  },
  {
   "cell_type": "code",
   "execution_count": 183,
   "id": "4443cf30-6bbc-4b46-ad46-6c21dbad3a48",
   "metadata": {},
   "outputs": [
    {
     "data": {
      "text/plain": [
       "25"
      ]
     },
     "execution_count": 183,
     "metadata": {},
     "output_type": "execute_result"
    }
   ],
   "source": [
    "(lambda x: x**2)(5)"
   ]
  },
  {
   "cell_type": "code",
   "execution_count": 185,
   "id": "162183c0-3196-4acf-aa33-215265b1aaac",
   "metadata": {},
   "outputs": [
    {
     "data": {
      "text/plain": [
       "5"
      ]
     },
     "execution_count": 185,
     "metadata": {},
     "output_type": "execute_result"
    }
   ],
   "source": [
    "sum_xy = lambda x,y: x+y\n",
    "sum_xy(2,3)"
   ]
  },
  {
   "cell_type": "code",
   "execution_count": 187,
   "id": "7bb72db3-2ed9-46ea-a32e-1ed7e1177924",
   "metadata": {},
   "outputs": [
    {
     "ename": "TypeError",
     "evalue": "'int' object is not callable",
     "output_type": "error",
     "traceback": [
      "\u001b[1;31m---------------------------------------------------------------------------\u001b[0m",
      "\u001b[1;31mTypeError\u001b[0m                                 Traceback (most recent call last)",
      "Cell \u001b[1;32mIn[187], line 2\u001b[0m\n\u001b[0;32m      1\u001b[0m sum_xy \u001b[38;5;241m=\u001b[39m \u001b[38;5;28;01mlambda\u001b[39;00m x,y: x\u001b[38;5;241m+\u001b[39my(x)\n\u001b[1;32m----> 2\u001b[0m sum_xy(\u001b[38;5;241m2\u001b[39m,\u001b[38;5;241m3\u001b[39m)\n",
      "Cell \u001b[1;32mIn[187], line 1\u001b[0m, in \u001b[0;36m<lambda>\u001b[1;34m(x, y)\u001b[0m\n\u001b[1;32m----> 1\u001b[0m sum_xy \u001b[38;5;241m=\u001b[39m \u001b[38;5;28;01mlambda\u001b[39;00m x,y: x\u001b[38;5;241m+\u001b[39my(x)\n\u001b[0;32m      2\u001b[0m sum_xy(\u001b[38;5;241m2\u001b[39m,\u001b[38;5;241m3\u001b[39m)\n",
      "\u001b[1;31mTypeError\u001b[0m: 'int' object is not callable"
     ]
    }
   ],
   "source": [
    "sum_xy = lambda x,y: x+y(x)\n",
    "sum_xy(2,3)"
   ]
  },
  {
   "cell_type": "code",
   "execution_count": 189,
   "id": "87041e31-dc90-4c2a-a4b6-15ac97ee6faa",
   "metadata": {},
   "outputs": [
    {
     "ename": "TypeError",
     "evalue": "<lambda>() missing 1 required positional argument: 'y'",
     "output_type": "error",
     "traceback": [
      "\u001b[1;31m---------------------------------------------------------------------------\u001b[0m",
      "\u001b[1;31mTypeError\u001b[0m                                 Traceback (most recent call last)",
      "Cell \u001b[1;32mIn[189], line 1\u001b[0m\n\u001b[1;32m----> 1\u001b[0m sum_xy(\u001b[38;5;241m2\u001b[39m)\n",
      "\u001b[1;31mTypeError\u001b[0m: <lambda>() missing 1 required positional argument: 'y'"
     ]
    }
   ],
   "source": [
    "sum_xy(2)"
   ]
  },
  {
   "cell_type": "code",
   "execution_count": 191,
   "id": "38b78d43-b6e0-4e2a-a57e-68dee5198665",
   "metadata": {},
   "outputs": [
    {
     "data": {
      "text/plain": [
       "9"
      ]
     },
     "execution_count": 191,
     "metadata": {},
     "output_type": "execute_result"
    }
   ],
   "source": [
    "sum_xy(2, lambda x: x+5)"
   ]
  },
  {
   "cell_type": "code",
   "execution_count": 193,
   "id": "42dfb333-f272-458c-a61e-57cab774d5c5",
   "metadata": {},
   "outputs": [
    {
     "data": {
      "text/plain": [
       "132860.25"
      ]
     },
     "execution_count": 193,
     "metadata": {},
     "output_type": "execute_result"
    }
   ],
   "source": [
    "(lambda x: (135 - x ** 3) ** 4 / (1 + x) ** 5)(3)"
   ]
  },
  {
   "cell_type": "code",
   "execution_count": null,
   "id": "39db80fe-fe9a-4e94-8f24-b2685689b4cf",
   "metadata": {},
   "outputs": [],
   "source": []
  }
 ],
 "metadata": {
  "kernelspec": {
   "display_name": "Python 3 (ipykernel)",
   "language": "python",
   "name": "python3"
  },
  "language_info": {
   "codemirror_mode": {
    "name": "ipython",
    "version": 3
   },
   "file_extension": ".py",
   "mimetype": "text/x-python",
   "name": "python",
   "nbconvert_exporter": "python",
   "pygments_lexer": "ipython3",
   "version": "3.12.4"
  }
 },
 "nbformat": 4,
 "nbformat_minor": 5
}
